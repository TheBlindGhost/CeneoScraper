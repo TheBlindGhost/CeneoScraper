{
 "cells": [
  {
   "cell_type": "markdown",
   "metadata": {},
   "source": [
    "Ceneo Scraper"
   ]
  },
  {
   "cell_type": "markdown",
   "metadata": {},
   "source": [
    "## Struktura opini w serwisie Ceneo.pl"
   ]
  },
  {
   "cell_type": "markdown",
   "metadata": {},
   "source": [
    "|składowa|selektor|zminenna|\n",
    "|--------|--------|--------|\n",
    "|identyfikator opinii|[\"data-entry-id\"]|opinion_id|\n",
    "|autora|span.user-post__author-name|author|\n",
    "|rekomendację|span.user-post__author-recomendation > em|recommend|\n",
    "|liczbę gwiazdek|span.user-post__score-count|stars|\n",
    "|treść opinii|div.user-post__text|content|\n",
    "|listę wad|div.review-feature__title--negatives ~ div.review-feature__item|cons|\n",
    "|listę zalet|div.review-feature__title--positives ~ div.review-feature__item|pros|\n",
    "|data wystawienia opinii|span.user-post__published > time:nth-child(1)[\"datetime\"]|opinion_date|\n",
    "|data zakupu produktu|span.user-post__published > time:nth-child(2)[\"datetime\"]|purchase_date|\n",
    "|ile osób uznało opinię za przydatną|button.vote-yes[\"data-total-vote\"]|up_vote|\n",
    "|ile osób uznało opinię za nieprzydatną|button.vote-no[\"data-total-vote\"]|down_vote|\n"
   ]
  },
  {
   "cell_type": "code",
   "execution_count": null,
   "metadata": {},
   "outputs": [],
   "source": [
    "selectors = {\n",
    "    \"opinion_id\": (None,\"data-entry-id\"),\n",
    "    \"author\": ('span.user-post__author-name',),\n",
    "    \"recommend\": ('span.user-post__author-recomendation > em',),\n",
    "    \"stars\": ('span.user-post__score-count',),\n",
    "    \"content\": ('div.user-post__text',),\n",
    "    \"cons\": ('div.review-feature__title--negatives ~ div.review-feature__item', None, True),\n",
    "    \"pros\": ('div.review-feature__title--positives ~ div.review-feature__item', None, True),\n",
    "    \"opinion_date\": ('span.user-post__published > time:nth-child(1)',\"datetime\"),\n",
    "    \"purchase_date\": ('span.user-post__published > time:nth-child(2)',\"datetime\"),\n",
    "    \"up_vote\": ('button.vote-yes',\"data-total-vote\"),\n",
    "    \"down_vote\": ('button.vote-no',\"data-total-vote\"),\n",
    "}"
   ]
  },
  {
   "cell_type": "markdown",
   "metadata": {},
   "source": [
    "Funkcja do ekstrakcji kodu HTML"
   ]
  },
  {
   "cell_type": "code",
   "execution_count": null,
   "metadata": {},
   "outputs": [],
   "source": [
    "def extract(ancestor, selector=None, attribute=None, return_list=False):\n",
    "    if return_list:\n",
    "        if attribute:\n",
    "            return [tag[attribute].strip() for tag in ancestor.select(selector)]\n",
    "        return [tag.text.strip() for tag in ancestor.select(selector)]\n",
    "\n",
    "\n",
    "    if selector:\n",
    "        if attribute:\n",
    "            try:\n",
    "                return ancestor.select_one(selector)[attribute].strip()\n",
    "            except TypeError:\n",
    "                return None\n",
    "        try:\n",
    "            return ancestor.select_one(selector).text.strip()\n",
    "        except AttributeError:\n",
    "            return None\n",
    "    if attribute:\n",
    "        return ancestor[attribute].strip()\n",
    "    return ancestor.text.strip()"
   ]
  },
  {
   "cell_type": "markdown",
   "metadata": {},
   "source": [
    "## Import bibliotek"
   ]
  },
  {
   "cell_type": "code",
   "execution_count": null,
   "metadata": {},
   "outputs": [],
   "source": [
    "import os\n",
    "import json\n",
    "import requests\n",
    "from bs4 import BeautifulSoup"
   ]
  },
  {
   "cell_type": "markdown",
   "metadata": {},
   "source": [
    "## Wczytywanie kodu produktu o którym mają zostać pobrane opinie"
   ]
  },
  {
   "cell_type": "code",
   "execution_count": null,
   "metadata": {},
   "outputs": [],
   "source": [
    "#product_id = \"104109736\"\n",
    "product_id = input('Podaj kod produktu: ')\n",
    "url = \"https://www.ceneo.pl/{product_id}#tab=reviews\"\n"
   ]
  },
  {
   "cell_type": "markdown",
   "metadata": {},
   "source": [
    "## Wysłanie do serwera Ceneo.pl żądania do strony z opiniami o produkcie"
   ]
  },
  {
   "cell_type": "code",
   "execution_count": 41,
   "metadata": {},
   "outputs": [],
   "source": [
    "response = requests.get(url)"
   ]
  },
  {
   "cell_type": "markdown",
   "metadata": {},
   "source": [
    "## Przekształcenie kodu HTML z postaci tekstowej do obiektu reprezentująceg DOM\n",
    "## Wydobycie ze struktury DOM znaczników odpowiadających opini konsumentów"
   ]
  },
  {
   "cell_type": "code",
   "execution_count": null,
   "metadata": {},
   "outputs": [],
   "source": []
  },
  {
   "cell_type": "markdown",
   "metadata": {},
   "source": [
    "## Wydobycie z struktury znacznika odpowiadającego pojedyńczej opini jej składowych"
   ]
  },
  {
   "cell_type": "code",
   "execution_count": null,
   "metadata": {},
   "outputs": [],
   "source": []
  },
  {
   "cell_type": "markdown",
   "metadata": {},
   "source": [
    "Zapis opinii o proodukcie do pliku JSON do katalogu opinions"
   ]
  },
  {
   "cell_type": "code",
   "execution_count": null,
   "metadata": {},
   "outputs": [
    {
     "data": {
      "text/plain": [
       "[{'opinion_id': '16872518',\n",
       "  'author': 'm...7',\n",
       "  'recommend': 'Polecam',\n",
       "  'stars': '5/5',\n",
       "  'content': 'Świetny przenośny, bezprzewodowy głośnik. Wykonany z bardzo dobrych materiałów. Dźwięk czysty, wyrazisty i bardzo miły dla ucha. Super basy sprawiają jeszcze większą przyjemność z odsłuchu.',\n",
       "  'cons': [],\n",
       "  'pros': [],\n",
       "  'opinion_date': '2022-12-13 13:48:41',\n",
       "  'purchase_date': '2022-12-01 07:00:54',\n",
       "  'up_vote': '5',\n",
       "  'down_vote': '3'},\n",
       " {'opinion_id': '14593429',\n",
       "  'author': 'Poznawszy',\n",
       "  'recommend': 'Polecam',\n",
       "  'stars': '5/5',\n",
       "  'content': 'Polecam',\n",
       "  'cons': [],\n",
       "  'pros': [],\n",
       "  'opinion_date': '2021-06-12 22:21:42',\n",
       "  'purchase_date': '2021-05-13 12:45:06',\n",
       "  'up_vote': '9',\n",
       "  'down_vote': '5'},\n",
       " {'opinion_id': '16409183',\n",
       "  'author': 'k...5',\n",
       "  'recommend': 'Polecam',\n",
       "  'stars': '5/5',\n",
       "  'content': 'Głośnik naprawdę super, jakoś dźwięku idzie w parze wraz ze zwiększaniem głośności, bas jest przyjemny dla ucha, na imprezy w plenerze jest to najlepszy wybór ze względu na głośność jakość dźwięku i co najbardziej mnie zaskoczyło to bateria która wytrzymuje bez problemu cały dzień słuchania muzyki na 70% głośności, w tej cenie najlepszy produkt:)',\n",
       "  'cons': ['brak wejścia aux'],\n",
       "  'pros': ['jakość dźwięku', 'wygląd', 'wygoda używania'],\n",
       "  'opinion_date': '2022-08-11 00:52:58',\n",
       "  'purchase_date': '2022-07-31 21:03:20',\n",
       "  'up_vote': '4',\n",
       "  'down_vote': '1'},\n",
       " {'opinion_id': '14111781',\n",
       "  'author': 'Użytkownik Ceneo',\n",
       "  'recommend': 'Polecam',\n",
       "  'stars': '5/5',\n",
       "  'content': 'Super sprzęt warty swojej ceny. Kupiony głównie do pracy z telewizorem jako soundbar, okazyjnie do pracy w terenie. Jako soundbar działa rewelacyjnie 💪',\n",
       "  'cons': [],\n",
       "  'pros': ['jakość dźwięku', 'wygląd', 'wygoda używania'],\n",
       "  'opinion_date': '2021-03-13 19:12:54',\n",
       "  'purchase_date': None,\n",
       "  'up_vote': '6',\n",
       "  'down_vote': '2'},\n",
       " {'opinion_id': '16995620',\n",
       "  'author': 'i...a',\n",
       "  'recommend': 'Polecam',\n",
       "  'stars': '5/5',\n",
       "  'content': 'Narazie mało korzystam ale jestem zadowolona z dotychczasowego korzystanie',\n",
       "  'cons': [],\n",
       "  'pros': ['jakość dźwięku', 'slaba bateria 6', 'wygląd', 'wygoda używania'],\n",
       "  'opinion_date': '2023-01-10 09:31:44',\n",
       "  'purchase_date': '2022-12-28 11:02:17',\n",
       "  'up_vote': '1',\n",
       "  'down_vote': '0'},\n",
       " {'opinion_id': '18152538',\n",
       "  'author': 'm...a',\n",
       "  'recommend': 'Polecam',\n",
       "  'stars': '5/5',\n",
       "  'content': 'Super sprzęt, brzmi doskonale jak na swoją cenę.',\n",
       "  'cons': [],\n",
       "  'pros': ['jakość dźwięku', 'slaba bateria 6', 'wygląd', 'wygoda używania'],\n",
       "  'opinion_date': '2023-11-29 15:07:38',\n",
       "  'purchase_date': '2023-11-21 12:30:43',\n",
       "  'up_vote': '1',\n",
       "  'down_vote': '0'},\n",
       " {'opinion_id': '17394476',\n",
       "  'author': 'p...9',\n",
       "  'recommend': 'Polecam',\n",
       "  'stars': '5/5',\n",
       "  'content': 'Głośnik super działa, jest dokładnie taki jak miał być.',\n",
       "  'cons': [],\n",
       "  'pros': [],\n",
       "  'opinion_date': '2023-04-13 07:33:38',\n",
       "  'purchase_date': '2023-04-05 14:45:17',\n",
       "  'up_vote': '0',\n",
       "  'down_vote': '0'},\n",
       " {'opinion_id': '15144119',\n",
       "  'author': 'g...2',\n",
       "  'recommend': 'Polecam',\n",
       "  'stars': '5/5',\n",
       "  'content': 'Jakośc wykonania, krystaliczny dźwięk, mobilność',\n",
       "  'cons': [],\n",
       "  'pros': ['jakość dźwięku', 'wygląd', 'wygoda używania'],\n",
       "  'opinion_date': '2021-10-29 15:47:33',\n",
       "  'purchase_date': '2021-10-20 12:02:12',\n",
       "  'up_vote': '2',\n",
       "  'down_vote': '2'},\n",
       " {'opinion_id': '15357235',\n",
       "  'author': 'Kamila',\n",
       "  'recommend': 'Polecam',\n",
       "  'stars': '5/5',\n",
       "  'content': 'Jestem bardzo zadowolony z tego głośnika. Pięknie gra. Polecam JBL',\n",
       "  'cons': [],\n",
       "  'pros': ['jakość dźwięku', 'slaba bateria 6', 'wygląd', 'wygoda używania'],\n",
       "  'opinion_date': '2021-12-13 20:13:10',\n",
       "  'purchase_date': '2021-11-19 22:23:33',\n",
       "  'up_vote': '3',\n",
       "  'down_vote': '5'},\n",
       " {'opinion_id': '16434209',\n",
       "  'author': 'k...r',\n",
       "  'recommend': 'Polecam',\n",
       "  'stars': '4,5/5',\n",
       "  'content': 'Jakość Muzyki pozytywnie zaskoczyła ogólnie wart zakupu',\n",
       "  'cons': [],\n",
       "  'pros': ['jakość dźwięku', 'slaba bateria 6', 'wygląd', 'wygoda używania'],\n",
       "  'opinion_date': '2022-08-18 21:46:56',\n",
       "  'purchase_date': '2022-07-18 22:50:22',\n",
       "  'up_vote': '0',\n",
       "  'down_vote': '2'}]"
      ]
     },
     "execution_count": 42,
     "metadata": {},
     "output_type": "execute_result"
    }
   ],
   "source": [
    "if not os.path.exists('opinions'):\n",
    "    os.mkdir('opinions')\n",
    "with open('opinions/{product_id}.json', \"w\", encoding=\"UTF-8\") as jf:\n",
    "    json.dump(all_opinions, jf, indent=4, ensure_ascii=False)\n"
   ]
  },
  {
   "cell_type": "markdown",
   "metadata": {},
   "source": [
    "Pobranie wszystkich opinii o wskazanym produkcie z serwisu Ceneo.pl"
   ]
  },
  {
   "cell_type": "code",
   "execution_count": 5,
   "metadata": {},
   "outputs": [
    {
     "ename": "NameError",
     "evalue": "name 'url' is not defined",
     "output_type": "error",
     "traceback": [
      "\u001b[1;31m---------------------------------------------------------------------------\u001b[0m",
      "\u001b[1;31mNameError\u001b[0m                                 Traceback (most recent call last)",
      "Cell \u001b[1;32mIn[5], line 2\u001b[0m\n\u001b[0;32m      1\u001b[0m all_opinions \u001b[38;5;241m=\u001b[39m []\n\u001b[1;32m----> 2\u001b[0m \u001b[38;5;28;01mwhile\u001b[39;00m(\u001b[43murl\u001b[49m):\n\u001b[0;32m      3\u001b[0m     response \u001b[38;5;241m=\u001b[39m requests\u001b[38;5;241m.\u001b[39mget(url) \n\u001b[0;32m      4\u001b[0m     page \u001b[38;5;241m=\u001b[39m BeautifulSoup(response\u001b[38;5;241m.\u001b[39mtext, \u001b[38;5;124m\"\u001b[39m\u001b[38;5;124mhtml.parser\u001b[39m\u001b[38;5;124m\"\u001b[39m)\n",
      "\u001b[1;31mNameError\u001b[0m: name 'url' is not defined"
     ]
    }
   ],
   "source": [
    "all_opinions = []\n",
    "while(url):\n",
    "    response = requests.get(url) \n",
    "    page = BeautifulSoup(response.text, \"html.parser\")\n",
    "    opinions = page.select(\"div.js_product-review\")\n",
    "    for opinion in opinions:\n",
    "        single_opinion = {\n",
    "            key: extract(opinion, *value)\n",
    "                for key, value in selectors.items()\n",
    "        }\n",
    "        all_opinions.append(single_opinion)\n",
    "    try:\n",
    "        url = \"https://www.ceneo.pl\" + extract(page,'a.pagination__next', \"href\")\n",
    "    except TypeError:\n",
    "        url = None"
   ]
  }
 ],
 "metadata": {
  "kernelspec": {
   "display_name": ".venv",
   "language": "python",
   "name": "python3"
  },
  "language_info": {
   "codemirror_mode": {
    "name": "ipython",
    "version": 3
   },
   "file_extension": ".py",
   "mimetype": "text/x-python",
   "name": "python",
   "nbconvert_exporter": "python",
   "pygments_lexer": "ipython3",
   "version": "3.11.4"
  }
 },
 "nbformat": 4,
 "nbformat_minor": 2
}
